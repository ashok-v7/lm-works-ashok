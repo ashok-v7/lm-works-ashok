{
 "cells": [
  {
   "cell_type": "code",
   "execution_count": 1,
   "metadata": {},
   "outputs": [],
   "source": [
    "from langchain.embeddings.openai import OpenAIEmbeddings\n",
    "from langchain.vectorstores import FAISS\n",
    "from langchain.chains import RetrievalQA\n",
    "from langchain.llms import OpenAI\n",
    "from langchain.docstore.document import Document\n"
   ]
  },
  {
   "cell_type": "code",
   "execution_count": 2,
   "metadata": {},
   "outputs": [],
   "source": [
    "# 1. Create Documents\n",
    "docs = [\n",
    "    Document(page_content=\"LangChain simplifies LLM app development.\", metadata={\"source\": \"AI Guide\"}),\n",
    "    Document(page_content=\"FAISS is an efficient vector search library.\", metadata={\"source\": \"DB Handbook\"}),\n",
    "    Document(page_content=\"Embedding models convert text into numerical vectors.\", metadata={\"source\": \"ML Book\"})\n",
    "]\n"
   ]
  },
  {
   "cell_type": "code",
   "execution_count": 3,
   "metadata": {},
   "outputs": [
    {
     "name": "stderr",
     "output_type": "stream",
     "text": [
      "/tmp/ipykernel_136126/689910576.py:2: LangChainDeprecationWarning: The class `OpenAIEmbeddings` was deprecated in LangChain 0.0.9 and will be removed in 1.0. An updated version of the class exists in the :class:`~langchain-openai package and should be used instead. To use it run `pip install -U :class:`~langchain-openai` and import as `from :class:`~langchain_openai import OpenAIEmbeddings``.\n",
      "  embedding_model = OpenAIEmbeddings()\n"
     ]
    }
   ],
   "source": [
    "# 2. Generate Embeddings and Store in FAISS\n",
    "embedding_model = OpenAIEmbeddings()\n",
    "vector_store = FAISS.from_documents(docs, embedding_model)"
   ]
  },
  {
   "cell_type": "code",
   "execution_count": 5,
   "metadata": {},
   "outputs": [],
   "source": [
    "# 3. Create a Retriever from FAISS\n",
    "retriever = vector_store.as_retriever()"
   ]
  },
  {
   "cell_type": "code",
   "execution_count": 6,
   "metadata": {},
   "outputs": [
    {
     "name": "stderr",
     "output_type": "stream",
     "text": [
      "/tmp/ipykernel_136126/3030844835.py:2: LangChainDeprecationWarning: The class `OpenAI` was deprecated in LangChain 0.0.10 and will be removed in 1.0. An updated version of the class exists in the :class:`~langchain-openai package and should be used instead. To use it run `pip install -U :class:`~langchain-openai` and import as `from :class:`~langchain_openai import OpenAI``.\n",
      "  qa_chain = RetrievalQA.from_chain_type(llm=OpenAI(), retriever=retriever)\n"
     ]
    }
   ],
   "source": [
    "\n",
    "# 4. Create a RetrievalQA Chain\n",
    "qa_chain = RetrievalQA.from_chain_type(llm=OpenAI(), retriever=retriever)"
   ]
  },
  {
   "cell_type": "code",
   "execution_count": 7,
   "metadata": {},
   "outputs": [
    {
     "name": "stderr",
     "output_type": "stream",
     "text": [
      "/tmp/ipykernel_136126/1605471607.py:3: LangChainDeprecationWarning: The method `Chain.run` was deprecated in langchain 0.1.0 and will be removed in 1.0. Use :meth:`~invoke` instead.\n",
      "  response = qa_chain.run(query)\n"
     ]
    },
    {
     "name": "stdout",
     "output_type": "stream",
     "text": [
      "Answer:  FAISS is an efficient vector search library.\n"
     ]
    }
   ],
   "source": [
    "\n",
    "\n",
    "\n",
    "\n",
    "\n",
    "\n",
    "\n",
    "# 5. Query the RetrievalQA Chain\n",
    "query = \"What is FAISS?\"\n",
    "response = qa_chain.run(query)\n",
    "\n",
    "# 6. Print the Answer\n",
    "print(\"Answer:\", response)\n"
   ]
  },
  {
   "cell_type": "markdown",
   "metadata": {},
   "source": [
    "Explanation of RetrievalQA Usage\n",
    "from langchain.chains import RetrievalQA\n",
    "\n",
    "This imports the RetrievalQA chain, which combines retrieval and QA generation.\n",
    "Creating Documents\n",
    "\n",
    "We define some text documents to be stored and retrieved later.\n",
    "Embedding and Storing in FAISS\n",
    "\n",
    "OpenAIEmbeddings converts text into numerical vectors.\n",
    "FAISS is used to store and efficiently retrieve similar vectors.\n",
    "Retrieving Documents\n",
    "\n",
    "vector_store.as_retriever() converts FAISS into a retriever.\n",
    "Initializing RetrievalQA\n",
    "\n",
    "RetrievalQA.from_chain_type(llm=OpenAI(), retriever=retriever) connects an LLM to the retriever, allowing it to fetch documents before answering queries.\n",
    "Querying and Getting Answers\n",
    "\n",
    "The query \"What is FAISS?\" fetches the most relevant document and generates an answer."
   ]
  }
 ],
 "metadata": {
  "kernelspec": {
   "display_name": "intqa",
   "language": "python",
   "name": "python3"
  },
  "language_info": {
   "codemirror_mode": {
    "name": "ipython",
    "version": 3
   },
   "file_extension": ".py",
   "mimetype": "text/x-python",
   "name": "python",
   "nbconvert_exporter": "python",
   "pygments_lexer": "ipython3",
   "version": "3.10.16"
  }
 },
 "nbformat": 4,
 "nbformat_minor": 2
}
