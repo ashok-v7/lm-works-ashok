{
 "cells": [
  {
   "cell_type": "code",
   "execution_count": 1,
   "metadata": {},
   "outputs": [
    {
     "name": "stdout",
     "output_type": "stream",
     "text": [
      "Ok\n"
     ]
    }
   ],
   "source": [
    "print(\"Ok\")"
   ]
  },
  {
   "cell_type": "code",
   "execution_count": 2,
   "metadata": {},
   "outputs": [],
   "source": [
    "import os\n",
    "from dotenv import load_dotenv\n"
   ]
  },
  {
   "cell_type": "code",
   "execution_count": 5,
   "metadata": {},
   "outputs": [],
   "source": [
    "#to access the code \n",
    "load_dotenv()\n",
    "OPENAI_API_KEY = os.environ.get('OPENAI_API_KEY')\n",
    " "
   ]
  },
  {
   "cell_type": "code",
   "execution_count": 7,
   "metadata": {},
   "outputs": [],
   "source": [
    "os.environ['OPENAI_API_KEY'] = OPENAI_API_KEY"
   ]
  },
  {
   "cell_type": "code",
   "execution_count": 10,
   "metadata": {},
   "outputs": [],
   "source": [
    "from langchain.document_loaders import PyPDFLoader"
   ]
  },
  {
   "cell_type": "code",
   "execution_count": 12,
   "metadata": {},
   "outputs": [
    {
     "data": {
      "text/plain": [
       "'/home/akv/Documents/LM-Works/lm-works-ashok/research'"
      ]
     },
     "execution_count": 12,
     "metadata": {},
     "output_type": "execute_result"
    }
   ],
   "source": [
    "%pwd"
   ]
  },
  {
   "cell_type": "code",
   "execution_count": 13,
   "metadata": {},
   "outputs": [
    {
     "name": "stdout",
     "output_type": "stream",
     "text": [
      "/home/akv/Documents/LM-Works/lm-works-ashok\n"
     ]
    },
    {
     "data": {
      "text/plain": [
       "'/home/akv/Documents/LM-Works/lm-works-ashok'"
      ]
     },
     "execution_count": 13,
     "metadata": {},
     "output_type": "execute_result"
    }
   ],
   "source": [
    "%cd ..\n",
    "%pwd"
   ]
  },
  {
   "cell_type": "code",
   "execution_count": 17,
   "metadata": {},
   "outputs": [
    {
     "data": {
      "text/plain": [
       "4"
      ]
     },
     "execution_count": 17,
     "metadata": {},
     "output_type": "execute_result"
    }
   ],
   "source": [
    "\n",
    "file_path = \"data/Earnings-Jan13-2025_1.pdf\"\n",
    "# load the data use the langchain pdf loader \n",
    "loader = PyPDFLoader(file_path)\n",
    "data = loader.load()\n",
    "len(data)"
   ]
  },
  {
   "cell_type": "code",
   "execution_count": null,
   "metadata": {},
   "outputs": [],
   "source": [
    "qa_gen = \"\"\n",
    "# extract the content of the 4 pages \n",
    "for page in data:\n",
    "    qa_gen = qa_gen + page.page_content\n",
    "\n",
    "print(qa_gen)"
   ]
  },
  {
   "cell_type": "code",
   "execution_count": 20,
   "metadata": {},
   "outputs": [],
   "source": [
    "#chunks\n",
    "from langchain.text_splitter import TokenTextSplitter \n",
    "splitter_for_qna = TokenTextSplitter(\n",
    "    model_name= \"gpt-3.5-turbo\",\n",
    "    chunk_size=10000,\n",
    "    chunk_overlap = 200\n",
    ")    \n",
    "# in above we are using TokenTextSplitter , In this case  model  will decide in the above for chunk_size\n"
   ]
  },
  {
   "cell_type": "code",
   "execution_count": 21,
   "metadata": {},
   "outputs": [],
   "source": [
    "chunk_ques_gen = splitter_for_qna.split_text(qa_gen)"
   ]
  },
  {
   "cell_type": "code",
   "execution_count": 23,
   "metadata": {},
   "outputs": [
    {
     "data": {
      "text/plain": [
       "['Page 1 of 6 \\n \\n \\n \\n \\n \\n \\n \\n \\nUnitedHealth Group Reports 2024 Results \\n \\n \\n• Revenues of $400.3 Billion Grew 8% Year-Over-Year  \\n• Domestic Consumers Served by UnitedHealthcare Grew 2.1 Million  \\n• Value-Based Care Patients Served by Optum Grew 600,000 \\n• Cash Flows from Operations were $24.2 Billion or 1.6x Net Income  \\n• Full Year, Fourth Quarter Net Earnings were $15.51, $5.98 Per Share  \\n• Full Year, Fourth Quarter Adjusted Net Earnings were $27.66, $6.81 Per Share \\n• Company Affirms 2025 Performance Outlook \\n \\n \\n(January 16, 2025) UnitedHealth Group (NYSE: UNH) reported full year and fourth quarter 2024 \\nresults reflecting diversified growth in serving people more extensively at Optum and \\nUnitedHealthcare.  \\n \\n“The people of UnitedHealth Group remain focused on making high-quality, affordable health care \\nmore available to more people while making the health system easier to navigate for patients and \\nproviders, positioning us well for growth in 2025,” said Andrew Witty, chief executive officer of \\nUnitedHealth Group. \\n \\nUnitedHealth Group affirmed the 2025 performance outlook established in December 2024, including \\nrevenues of $450 billion to $455 billion, net earnings of $28.15 to $28.65 per share, adjusted net \\nearnings of $29.50 to $30.00 per share and cash flow from operations of $32 billion to $33 billion.Page 2 of 6 \\n \\n \\n \\n \\n \\n \\nQuarterly and Annual Financial Performance   \\n(in billions, except percentages)   \\n Three Months Ended  Year Ended \\n Dec 31, \\n2024 \\nDec 31, \\n2024 (Adj) \\nDec 31, \\n2023  Dec 31, \\n2024 \\nDec 31, \\n2024 (Adj) \\nDec 31, \\n2023 \\nRevenues $100.8 $100.8 $94.4  $400.3 $400.5 $371.6 \\nEarnings from \\nOperations $7.8 $8.3 $7.7  $32.3 $34.4 $32.4 \\nNet Margin 5.5% 5.9% 5.8%  3.6% 6.1% 6.0% \\n \\n• UnitedHealth Group’s 2024 revenues grew $28.7 billion or 8% year-over-year to $400.3 billion, \\ndriven primarily by serving people more comprehensively across the enterprise. Full year 2024 \\nearnings from operations were $32.3 billion. Adjusted earnings from operations of $34.4 billion \\nexclude the cyberattack direct response costs and South American impacts. \\n• The full year medical care ratio was 85.5% compared to 83.2% in 2023. The increase was \\nprimarily due to previously discussed items, including the revenue effects of CMS’s Medicare \\nfunding reductions, member mix and timing of Medicaid redeterminations. Factors cited on the \\ncompany’s third quarter earnings call, including increased hospital coding intensity and \\nspecialty medication prescribing, continued at similar levels in the fourth quarter and are \\nreflected in the company’s 2025 outlook. Days claims payable of 47.0 compared to 47.4 in third \\nquarter 2024 and 47.9 at year end 2023. The company did not have any favorable earnings \\nimpacting medical reserve development in the fourth quarter. \\n• The full year 2024 operating cost ratio of 13.2% compared to 14.7% in 2023, reflecting gains \\nfrom business portfolio refinement and strong improvement in operating efficiencies and \\nconsumer experiences. The business portfolio refinement, including strategic transactions, will \\nenhance growth opportunities and contributed about 80 basis points, nearly half at Optum \\nHealth with the remainder split between UnitedHealthcare and Optum Insight. \\n• Cash flows from operations for the full year were $24.2 billion, or 1.6 times net income. During \\n2024, the company returned over $16 billion to shareholders through dividends and share \\nrepurchases. Return on equity of 23.7% in the fourth quarter, reflected the company’s \\nconsistent, broad-based earnings and efficient capital structure.Page 3 of 6 \\n \\n \\n \\n \\n \\nUnitedHealthcare provides health care benefits globally, serving individuals and employers, and Medicare \\nand Medicaid beneficiaries. UnitedHealthcare is dedicated to improving the value customers and \\nconsumers receive by improving health and wellness, enhancing the quality of care received, simplifying \\nthe health care experience and reducing the total cost of care. \\nQuarterly and Annual Financial Performance   \\n(in billions, except percentages)   \\n Three Months Ended  Year Ended \\n Dec 31, \\n2024 \\nDec 31, \\n2024 (Adj) \\nDec 31, \\n2023  Dec 31, \\n2024 \\nDec 31, \\n2024 (Adj) \\nDec 31, \\n2023 \\nRevenues $74.1 $74.1 $70.8  $298.2 $298.4 $281.4 \\nEarnings from \\nOperations $3.0 $3.0 $3.1  $15.6 $16.2 $16.4 \\nOperating \\nMargin 4.0% 4.1% 4.4%  5.2% 5.4% 5.8% \\n \\n• UnitedHealthcare full year revenues of $298.2 billion increased $16.8 billion or 6% year-over-\\nyear. Operating earnings were $15.6 billion.   \\n• The number of consumers served with domestic commercial benefits grew by 2.4 million in \\n2024, reflecting strong customer response to the company’s innovative offerings which \\nenhance transparency and consumer choice. In 2025, one in four of our largest fee-based \\nemployer customers are offering such plans. \\n• The number of people served by the company’s offerings for seniors and people with complex \\nneeds grew to 9.4 million due to product designs tailored to meet the specific needs of \\nindividuals and families with limited economic resources and who are underserved.   \\n• People served by the company’s state-based community offerings moderated as expected to \\n7.4 million due to the now concluded Medicaid eligibility redeterminations process, partially \\noffset by new and expanded customer relationships. UnitedHealthcare expanded with state \\ncustomers including Michigan, Idaho, Nevada and Georgia in 2024, providing momentum the \\ncompany expects will lead to a return to growth in people served in 2025.Page 4 of 6 \\n \\n \\n \\n \\nThe Optum health services businesses serve the global health care marketplace, including payers, care \\nproviders, employers, governments, life sciences companies and consumers. Using market-leading \\ninformation, analytics and technology to yield clinical insights, Optum helps improve overall health system \\nperformance by optimizing care quality, reducing care costs and improving the consumer experience. \\nQuarterly and Annual Financial Performance   \\n(in billions, except percentages)   \\n Three Months Ended  Year Ended \\n Dec 31, \\n2024 \\nDec 31, \\n2024 (Adj) \\nDec 31, \\n2023  Dec 31, \\n2024 \\nDec 31, \\n2024 (Adj) \\nDec 31, \\n2023 \\nRevenues $65.1 $65.1 $59.5  $253.0 $253.0 $226.6 \\nEarnings from \\nOperations $4.8 $5.2 $4.6  $16.7 $18.2 $15.9 \\nOperating \\nMargin 7.4% 8.0% 7.7%  6.6% 7.2% 7.0% \\n \\n• Optum full year revenues of $253 billion grew $26.3 billion or 12% year-over-year, led by \\nOptum Rx and Optum Health. Operating earnings were $16.7 billion and adjusted operating \\nearnings were $18.2 billion. Adjusted operating earnings exclude costs to support the Change \\nHealthcare direct response efforts.  \\n• Optum Health revenues grew to $105.4 billion, driven by growth in patients served under value-\\nbased care arrangements and continued expansion of the types and level of care provided. At \\nthe end of 2024, Optum Health served 4.7 million people with value-base care and expects to \\ngrow to serve an additional 650,000 patients in 2025.   \\n• Optum Insight revenues were $18.8 billion, with the 1% year-over-year decline reflecting the \\nbusiness disruption effects of the cyberattack, which were $867 million. Operating earnings \\nwere $3.1 billion and adjusted operating earnings, which exclude cyberattack direct response \\ncosts, were $4.4 billion. The revenue backlog grew by $700 million over last year, largely due \\nto new health system partnerships.  \\n• Optum Rx revenues increased 15% in 2024 due to growth in new clients as well as expanded \\nrelationships with existing clients. Optum Rx continued to advance its comprehensive scope of \\npharmacy services offered, including specialty and community-based pharmacies. Adjusted \\nscripts grew to 1.62 billion, compared to 1.54 billion last year.']"
      ]
     },
     "execution_count": 23,
     "metadata": {},
     "output_type": "execute_result"
    }
   ],
   "source": [
    "chunk_ques_gen\n"
   ]
  },
  {
   "cell_type": "code",
   "execution_count": 25,
   "metadata": {},
   "outputs": [
    {
     "data": {
      "text/plain": [
       "1"
      ]
     },
     "execution_count": 25,
     "metadata": {},
     "output_type": "execute_result"
    }
   ],
   "source": [
    "len(chunk_ques_gen)"
   ]
  },
  {
   "cell_type": "code",
   "execution_count": 29,
   "metadata": {},
   "outputs": [
    {
     "data": {
      "text/plain": [
       "list"
      ]
     },
     "execution_count": 29,
     "metadata": {},
     "output_type": "execute_result"
    }
   ],
   "source": [
    "type(chunk_ques_gen)\n"
   ]
  },
  {
   "cell_type": "code",
   "execution_count": 28,
   "metadata": {},
   "outputs": [
    {
     "data": {
      "text/plain": [
       "str"
      ]
     },
     "execution_count": 28,
     "metadata": {},
     "output_type": "execute_result"
    }
   ],
   "source": [
    " \n",
    "type(chunk_ques_gen[0])"
   ]
  },
  {
   "cell_type": "code",
   "execution_count": 30,
   "metadata": {},
   "outputs": [],
   "source": [
    "from langchain.docstore.document import Document \n"
   ]
  },
  {
   "cell_type": "code",
   "execution_count": 31,
   "metadata": {},
   "outputs": [],
   "source": [
    "# we can't pass str to LLM  , so we need to pass the str to document format using above library , As emebedding model understand Document format\n",
    "\n",
    "document_qna_gen = [Document(page_content= txt) for txt in chunk_ques_gen]\n",
    "#list comprehension used to convert  in above "
   ]
  },
  {
   "cell_type": "code",
   "execution_count": 32,
   "metadata": {},
   "outputs": [
    {
     "data": {
      "text/plain": [
       "[Document(metadata={}, page_content='Page 1 of 6 \\n \\n \\n \\n \\n \\n \\n \\n \\nUnitedHealth Group Reports 2024 Results \\n \\n \\n• Revenues of $400.3 Billion Grew 8% Year-Over-Year  \\n• Domestic Consumers Served by UnitedHealthcare Grew 2.1 Million  \\n• Value-Based Care Patients Served by Optum Grew 600,000 \\n• Cash Flows from Operations were $24.2 Billion or 1.6x Net Income  \\n• Full Year, Fourth Quarter Net Earnings were $15.51, $5.98 Per Share  \\n• Full Year, Fourth Quarter Adjusted Net Earnings were $27.66, $6.81 Per Share \\n• Company Affirms 2025 Performance Outlook \\n \\n \\n(January 16, 2025) UnitedHealth Group (NYSE: UNH) reported full year and fourth quarter 2024 \\nresults reflecting diversified growth in serving people more extensively at Optum and \\nUnitedHealthcare.  \\n \\n“The people of UnitedHealth Group remain focused on making high-quality, affordable health care \\nmore available to more people while making the health system easier to navigate for patients and \\nproviders, positioning us well for growth in 2025,” said Andrew Witty, chief executive officer of \\nUnitedHealth Group. \\n \\nUnitedHealth Group affirmed the 2025 performance outlook established in December 2024, including \\nrevenues of $450 billion to $455 billion, net earnings of $28.15 to $28.65 per share, adjusted net \\nearnings of $29.50 to $30.00 per share and cash flow from operations of $32 billion to $33 billion.Page 2 of 6 \\n \\n \\n \\n \\n \\n \\nQuarterly and Annual Financial Performance   \\n(in billions, except percentages)   \\n Three Months Ended  Year Ended \\n Dec 31, \\n2024 \\nDec 31, \\n2024 (Adj) \\nDec 31, \\n2023  Dec 31, \\n2024 \\nDec 31, \\n2024 (Adj) \\nDec 31, \\n2023 \\nRevenues $100.8 $100.8 $94.4  $400.3 $400.5 $371.6 \\nEarnings from \\nOperations $7.8 $8.3 $7.7  $32.3 $34.4 $32.4 \\nNet Margin 5.5% 5.9% 5.8%  3.6% 6.1% 6.0% \\n \\n• UnitedHealth Group’s 2024 revenues grew $28.7 billion or 8% year-over-year to $400.3 billion, \\ndriven primarily by serving people more comprehensively across the enterprise. Full year 2024 \\nearnings from operations were $32.3 billion. Adjusted earnings from operations of $34.4 billion \\nexclude the cyberattack direct response costs and South American impacts. \\n• The full year medical care ratio was 85.5% compared to 83.2% in 2023. The increase was \\nprimarily due to previously discussed items, including the revenue effects of CMS’s Medicare \\nfunding reductions, member mix and timing of Medicaid redeterminations. Factors cited on the \\ncompany’s third quarter earnings call, including increased hospital coding intensity and \\nspecialty medication prescribing, continued at similar levels in the fourth quarter and are \\nreflected in the company’s 2025 outlook. Days claims payable of 47.0 compared to 47.4 in third \\nquarter 2024 and 47.9 at year end 2023. The company did not have any favorable earnings \\nimpacting medical reserve development in the fourth quarter. \\n• The full year 2024 operating cost ratio of 13.2% compared to 14.7% in 2023, reflecting gains \\nfrom business portfolio refinement and strong improvement in operating efficiencies and \\nconsumer experiences. The business portfolio refinement, including strategic transactions, will \\nenhance growth opportunities and contributed about 80 basis points, nearly half at Optum \\nHealth with the remainder split between UnitedHealthcare and Optum Insight. \\n• Cash flows from operations for the full year were $24.2 billion, or 1.6 times net income. During \\n2024, the company returned over $16 billion to shareholders through dividends and share \\nrepurchases. Return on equity of 23.7% in the fourth quarter, reflected the company’s \\nconsistent, broad-based earnings and efficient capital structure.Page 3 of 6 \\n \\n \\n \\n \\n \\nUnitedHealthcare provides health care benefits globally, serving individuals and employers, and Medicare \\nand Medicaid beneficiaries. UnitedHealthcare is dedicated to improving the value customers and \\nconsumers receive by improving health and wellness, enhancing the quality of care received, simplifying \\nthe health care experience and reducing the total cost of care. \\nQuarterly and Annual Financial Performance   \\n(in billions, except percentages)   \\n Three Months Ended  Year Ended \\n Dec 31, \\n2024 \\nDec 31, \\n2024 (Adj) \\nDec 31, \\n2023  Dec 31, \\n2024 \\nDec 31, \\n2024 (Adj) \\nDec 31, \\n2023 \\nRevenues $74.1 $74.1 $70.8  $298.2 $298.4 $281.4 \\nEarnings from \\nOperations $3.0 $3.0 $3.1  $15.6 $16.2 $16.4 \\nOperating \\nMargin 4.0% 4.1% 4.4%  5.2% 5.4% 5.8% \\n \\n• UnitedHealthcare full year revenues of $298.2 billion increased $16.8 billion or 6% year-over-\\nyear. Operating earnings were $15.6 billion.   \\n• The number of consumers served with domestic commercial benefits grew by 2.4 million in \\n2024, reflecting strong customer response to the company’s innovative offerings which \\nenhance transparency and consumer choice. In 2025, one in four of our largest fee-based \\nemployer customers are offering such plans. \\n• The number of people served by the company’s offerings for seniors and people with complex \\nneeds grew to 9.4 million due to product designs tailored to meet the specific needs of \\nindividuals and families with limited economic resources and who are underserved.   \\n• People served by the company’s state-based community offerings moderated as expected to \\n7.4 million due to the now concluded Medicaid eligibility redeterminations process, partially \\noffset by new and expanded customer relationships. UnitedHealthcare expanded with state \\ncustomers including Michigan, Idaho, Nevada and Georgia in 2024, providing momentum the \\ncompany expects will lead to a return to growth in people served in 2025.Page 4 of 6 \\n \\n \\n \\n \\nThe Optum health services businesses serve the global health care marketplace, including payers, care \\nproviders, employers, governments, life sciences companies and consumers. Using market-leading \\ninformation, analytics and technology to yield clinical insights, Optum helps improve overall health system \\nperformance by optimizing care quality, reducing care costs and improving the consumer experience. \\nQuarterly and Annual Financial Performance   \\n(in billions, except percentages)   \\n Three Months Ended  Year Ended \\n Dec 31, \\n2024 \\nDec 31, \\n2024 (Adj) \\nDec 31, \\n2023  Dec 31, \\n2024 \\nDec 31, \\n2024 (Adj) \\nDec 31, \\n2023 \\nRevenues $65.1 $65.1 $59.5  $253.0 $253.0 $226.6 \\nEarnings from \\nOperations $4.8 $5.2 $4.6  $16.7 $18.2 $15.9 \\nOperating \\nMargin 7.4% 8.0% 7.7%  6.6% 7.2% 7.0% \\n \\n• Optum full year revenues of $253 billion grew $26.3 billion or 12% year-over-year, led by \\nOptum Rx and Optum Health. Operating earnings were $16.7 billion and adjusted operating \\nearnings were $18.2 billion. Adjusted operating earnings exclude costs to support the Change \\nHealthcare direct response efforts.  \\n• Optum Health revenues grew to $105.4 billion, driven by growth in patients served under value-\\nbased care arrangements and continued expansion of the types and level of care provided. At \\nthe end of 2024, Optum Health served 4.7 million people with value-base care and expects to \\ngrow to serve an additional 650,000 patients in 2025.   \\n• Optum Insight revenues were $18.8 billion, with the 1% year-over-year decline reflecting the \\nbusiness disruption effects of the cyberattack, which were $867 million. Operating earnings \\nwere $3.1 billion and adjusted operating earnings, which exclude cyberattack direct response \\ncosts, were $4.4 billion. The revenue backlog grew by $700 million over last year, largely due \\nto new health system partnerships.  \\n• Optum Rx revenues increased 15% in 2024 due to growth in new clients as well as expanded \\nrelationships with existing clients. Optum Rx continued to advance its comprehensive scope of \\npharmacy services offered, including specialty and community-based pharmacies. Adjusted \\nscripts grew to 1.62 billion, compared to 1.54 billion last year.')]"
      ]
     },
     "execution_count": 32,
     "metadata": {},
     "output_type": "execute_result"
    }
   ],
   "source": [
    "document_qna_gen "
   ]
  },
  {
   "cell_type": "code",
   "execution_count": 34,
   "metadata": {},
   "outputs": [
    {
     "data": {
      "text/plain": [
       "langchain_core.documents.base.Document"
      ]
     },
     "execution_count": 34,
     "metadata": {},
     "output_type": "execute_result"
    }
   ],
   "source": [
    "type(document_qna_gen[0])"
   ]
  },
  {
   "cell_type": "code",
   "execution_count": 42,
   "metadata": {},
   "outputs": [],
   "source": [
    "#chunks - again why ?\n",
    "#two-step chunking (or hierarchical chunking) is sometimes necessary to ensure that the resulting \n",
    "# chunks preserve context and semantic meaning while adhering to token limits.\n",
    "from langchain.text_splitter import TokenTextSplitter \n",
    "splitter_ans_qna = TokenTextSplitter(\n",
    "    model_name= \"gpt-3.5-turbo\",\n",
    "    chunk_size=1000,\n",
    "    chunk_overlap = 200\n",
    ")    "
   ]
  },
  {
   "cell_type": "code",
   "execution_count": 43,
   "metadata": {},
   "outputs": [],
   "source": [
    "document_ans_qna = splitter_ans_qna.split_documents(document_qna_gen)"
   ]
  },
  {
   "cell_type": "code",
   "execution_count": 44,
   "metadata": {},
   "outputs": [
    {
     "data": {
      "text/plain": [
       "[Document(metadata={}, page_content='Page 1 of 6 \\n \\n \\n \\n \\n \\n \\n \\n \\nUnitedHealth Group Reports 2024 Results \\n \\n \\n• Revenues of $400.3 Billion Grew 8% Year-Over-Year  \\n• Domestic Consumers Served by UnitedHealthcare Grew 2.1 Million  \\n• Value-Based Care Patients Served by Optum Grew 600,000 \\n• Cash Flows from Operations were $24.2 Billion or 1.6x Net Income  \\n• Full Year, Fourth Quarter Net Earnings were $15.51, $5.98 Per Share  \\n• Full Year, Fourth Quarter Adjusted Net Earnings were $27.66, $6.81 Per Share \\n• Company Affirms 2025 Performance Outlook \\n \\n \\n(January 16, 2025) UnitedHealth Group (NYSE: UNH) reported full year and fourth quarter 2024 \\nresults reflecting diversified growth in serving people more extensively at Optum and \\nUnitedHealthcare.  \\n \\n“The people of UnitedHealth Group remain focused on making high-quality, affordable health care \\nmore available to more people while making the health system easier to navigate for patients and \\nproviders, positioning us well for growth in 2025,” said Andrew Witty, chief executive officer of \\nUnitedHealth Group. \\n \\nUnitedHealth Group affirmed the 2025 performance outlook established in December 2024, including \\nrevenues of $450 billion to $455 billion, net earnings of $28.15 to $28.65 per share, adjusted net \\nearnings of $29.50 to $30.00 per share and cash flow from operations of $32 billion to $33 billion.Page 2 of 6 \\n \\n \\n \\n \\n \\n \\nQuarterly and Annual Financial Performance   \\n(in billions, except percentages)   \\n Three Months Ended  Year Ended \\n Dec 31, \\n2024 \\nDec 31, \\n2024 (Adj) \\nDec 31, \\n2023  Dec 31, \\n2024 \\nDec 31, \\n2024 (Adj) \\nDec 31, \\n2023 \\nRevenues $100.8 $100.8 $94.4  $400.3 $400.5 $371.6 \\nEarnings from \\nOperations $7.8 $8.3 $7.7  $32.3 $34.4 $32.4 \\nNet Margin 5.5% 5.9% 5.8%  3.6% 6.1% 6.0% \\n \\n• UnitedHealth Group’s 2024 revenues grew $28.7 billion or 8% year-over-year to $400.3 billion, \\ndriven primarily by serving people more comprehensively across the enterprise. Full year 2024 \\nearnings from operations were $32.3 billion. Adjusted earnings from operations of $34.4 billion \\nexclude the cyberattack direct response costs and South American impacts. \\n• The full year medical care ratio was 85.5% compared to 83.2% in 2023. The increase was \\nprimarily due to previously discussed items, including the revenue effects of CMS’s Medicare \\nfunding reductions, member mix and timing of Medicaid redeterminations. Factors cited on the \\ncompany’s third quarter earnings call, including increased hospital coding intensity and \\nspecialty medication prescribing, continued at similar levels in the fourth quarter and are \\nreflected in the company’s 2025 outlook. Days claims payable of 47.0 compared to 47.4 in third \\nquarter 2024 and 47.9 at year end 2023. The company did not have any favorable earnings \\nimpacting medical reserve development in the fourth quarter. \\n• The full year 2024 operating cost ratio of 13.2% compared to 14.7% in 2023, reflecting gains \\nfrom business portfolio refinement and strong improvement in operating efficiencies and \\nconsumer experiences. The business portfolio refinement, including strategic transactions, will \\nenhance growth opportunities and contributed about 80 basis points, nearly half at Optum \\nHealth with the remainder split between UnitedHealthcare and Optum Insight. \\n• Cash flows from operations for the full year were $24.2 billion, or 1.6 times net income. During \\n2024, the company returned over $16 billion to shareholders through dividends and share \\nrepurchases. Return on equity of 23.7% in the fourth quarter, reflected the company’s \\nconsistent, broad-based earnings and efficient capital structure.Page 3 of 6 \\n \\n \\n \\n \\n \\nUnitedHealthcare provides health care benefits globally, serving individuals and employers, and Medicare \\nand Medicaid beneficiaries. UnitedHealthcare is dedicated to improving the value customers and \\nconsumers receive by improving health and wellness, enhancing the quality of care received, simplifying \\nthe health care experience and reducing the total cost of care. \\nQuarterly'),\n",
       " Document(metadata={}, page_content=' and \\nconsumer experiences. The business portfolio refinement, including strategic transactions, will \\nenhance growth opportunities and contributed about 80 basis points, nearly half at Optum \\nHealth with the remainder split between UnitedHealthcare and Optum Insight. \\n• Cash flows from operations for the full year were $24.2 billion, or 1.6 times net income. During \\n2024, the company returned over $16 billion to shareholders through dividends and share \\nrepurchases. Return on equity of 23.7% in the fourth quarter, reflected the company’s \\nconsistent, broad-based earnings and efficient capital structure.Page 3 of 6 \\n \\n \\n \\n \\n \\nUnitedHealthcare provides health care benefits globally, serving individuals and employers, and Medicare \\nand Medicaid beneficiaries. UnitedHealthcare is dedicated to improving the value customers and \\nconsumers receive by improving health and wellness, enhancing the quality of care received, simplifying \\nthe health care experience and reducing the total cost of care. \\nQuarterly and Annual Financial Performance   \\n(in billions, except percentages)   \\n Three Months Ended  Year Ended \\n Dec 31, \\n2024 \\nDec 31, \\n2024 (Adj) \\nDec 31, \\n2023  Dec 31, \\n2024 \\nDec 31, \\n2024 (Adj) \\nDec 31, \\n2023 \\nRevenues $74.1 $74.1 $70.8  $298.2 $298.4 $281.4 \\nEarnings from \\nOperations $3.0 $3.0 $3.1  $15.6 $16.2 $16.4 \\nOperating \\nMargin 4.0% 4.1% 4.4%  5.2% 5.4% 5.8% \\n \\n• UnitedHealthcare full year revenues of $298.2 billion increased $16.8 billion or 6% year-over-\\nyear. Operating earnings were $15.6 billion.   \\n• The number of consumers served with domestic commercial benefits grew by 2.4 million in \\n2024, reflecting strong customer response to the company’s innovative offerings which \\nenhance transparency and consumer choice. In 2025, one in four of our largest fee-based \\nemployer customers are offering such plans. \\n• The number of people served by the company’s offerings for seniors and people with complex \\nneeds grew to 9.4 million due to product designs tailored to meet the specific needs of \\nindividuals and families with limited economic resources and who are underserved.   \\n• People served by the company’s state-based community offerings moderated as expected to \\n7.4 million due to the now concluded Medicaid eligibility redeterminations process, partially \\noffset by new and expanded customer relationships. UnitedHealthcare expanded with state \\ncustomers including Michigan, Idaho, Nevada and Georgia in 2024, providing momentum the \\ncompany expects will lead to a return to growth in people served in 2025.Page 4 of 6 \\n \\n \\n \\n \\nThe Optum health services businesses serve the global health care marketplace, including payers, care \\nproviders, employers, governments, life sciences companies and consumers. Using market-leading \\ninformation, analytics and technology to yield clinical insights, Optum helps improve overall health system \\nperformance by optimizing care quality, reducing care costs and improving the consumer experience. \\nQuarterly and Annual Financial Performance   \\n(in billions, except percentages)   \\n Three Months Ended  Year Ended \\n Dec 31, \\n2024 \\nDec 31, \\n2024 (Adj) \\nDec 31, \\n2023  Dec 31, \\n2024 \\nDec 31, \\n2024 (Adj) \\nDec 31, \\n2023 \\nRevenues $65.1 $65.1 $59.5  $253.0 $253.0 $226.6 \\nEarnings from \\nOperations $4.8 $5.2 $4.6  $16.7 $18.2 $15.9 \\nOperating \\nMargin 7.4% 8.0% 7.7%  6.6% 7.2% 7.0% \\n \\n• Optum full year revenues of $253 billion grew $26.3 billion or 12% year-over-year, led by \\nOptum Rx and Optum Health. Operating earnings were $16.7 billion and adjusted operating \\nearnings were $18.2 billion. Adjusted operating earnings exclude costs to support the Change \\nHealthcare direct response efforts.  \\n• Optum Health revenues grew to $105.4 billion, driven by growth in patients served under value-\\nbased care arrangements and continued expansion of the types and level of care provided. At \\nthe end of 2024, Optum Health served 4.7 million people with value-base care and expects to \\ngrow to serve an additional 650,000 patients in'),\n",
       " Document(metadata={}, page_content='.6  $16.7 $18.2 $15.9 \\nOperating \\nMargin 7.4% 8.0% 7.7%  6.6% 7.2% 7.0% \\n \\n• Optum full year revenues of $253 billion grew $26.3 billion or 12% year-over-year, led by \\nOptum Rx and Optum Health. Operating earnings were $16.7 billion and adjusted operating \\nearnings were $18.2 billion. Adjusted operating earnings exclude costs to support the Change \\nHealthcare direct response efforts.  \\n• Optum Health revenues grew to $105.4 billion, driven by growth in patients served under value-\\nbased care arrangements and continued expansion of the types and level of care provided. At \\nthe end of 2024, Optum Health served 4.7 million people with value-base care and expects to \\ngrow to serve an additional 650,000 patients in 2025.   \\n• Optum Insight revenues were $18.8 billion, with the 1% year-over-year decline reflecting the \\nbusiness disruption effects of the cyberattack, which were $867 million. Operating earnings \\nwere $3.1 billion and adjusted operating earnings, which exclude cyberattack direct response \\ncosts, were $4.4 billion. The revenue backlog grew by $700 million over last year, largely due \\nto new health system partnerships.  \\n• Optum Rx revenues increased 15% in 2024 due to growth in new clients as well as expanded \\nrelationships with existing clients. Optum Rx continued to advance its comprehensive scope of \\npharmacy services offered, including specialty and community-based pharmacies. Adjusted \\nscripts grew to 1.62 billion, compared to 1.54 billion last year.')]"
      ]
     },
     "execution_count": 44,
     "metadata": {},
     "output_type": "execute_result"
    }
   ],
   "source": [
    "document_ans_qna"
   ]
  },
  {
   "cell_type": "code",
   "execution_count": 45,
   "metadata": {},
   "outputs": [
    {
     "data": {
      "text/plain": [
       "3"
      ]
     },
     "execution_count": 45,
     "metadata": {},
     "output_type": "execute_result"
    }
   ],
   "source": [
    "len(document_ans_qna)"
   ]
  }
 ],
 "metadata": {
  "kernelspec": {
   "display_name": "intqa",
   "language": "python",
   "name": "python3"
  },
  "language_info": {
   "codemirror_mode": {
    "name": "ipython",
    "version": 3
   },
   "file_extension": ".py",
   "mimetype": "text/x-python",
   "name": "python",
   "nbconvert_exporter": "python",
   "pygments_lexer": "ipython3",
   "version": "3.10.16"
  }
 },
 "nbformat": 4,
 "nbformat_minor": 2
}
